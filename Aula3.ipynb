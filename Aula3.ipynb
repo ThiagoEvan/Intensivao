{
 "cells": [
  {
   "attachments": {},
   "cell_type": "markdown",
   "metadata": {},
   "source": [
    "# Automação Web e Busca de informação\n",
    "\n",
    "### Objetivo:\n",
    "\n",
    "Atualizar o preço da tabela produtos de acordo com a cotação do:\n",
    "\n",
    "- Euro\n",
    "- Dolar\n",
    "- Euro"
   ]
  },
  {
   "attachments": {},
   "cell_type": "markdown",
   "metadata": {},
   "source": [
    "### Importações e Conexão com o Google Chrome\n",
    "\n",
    "- Importando selenium e pandas"
   ]
  },
  {
   "cell_type": "code",
   "execution_count": 3,
   "metadata": {},
   "outputs": [],
   "source": [
    "from selenium import webdriver\n",
    "from selenium.webdriver.common.keys import Keys\n",
    "import pandas as pd"
   ]
  },
  {
   "attachments": {},
   "cell_type": "markdown",
   "metadata": {},
   "source": [
    "- Conectando com o Google Chrome"
   ]
  },
  {
   "cell_type": "code",
   "execution_count": 5,
   "metadata": {},
   "outputs": [],
   "source": [
    "navegador = webdriver.Chrome()\n",
    "\n",
    "navegador.get('https://www.google.com/')"
   ]
  },
  {
   "attachments": {},
   "cell_type": "markdown",
   "metadata": {},
   "source": [
    "### Pesquisando as cotações\n",
    "\n",
    "Primeiro vamos definir a área de pesquisa do google"
   ]
  },
  {
   "cell_type": "code",
   "execution_count": null,
   "metadata": {},
   "outputs": [],
   "source": [
    "pesquisa = navegador.find_element(\n",
    "'xpath',\n",
    "'/html/body/div[1]/div[3]/form/div[1]/div[1]/div[1]/div/div[2]/input')"
   ]
  },
  {
   "attachments": {},
   "cell_type": "markdown",
   "metadata": {},
   "source": [
    "Depois fazemos a pesquisa, nesse caso a pesquisa é **cotação dolar**"
   ]
  },
  {
   "cell_type": "code",
   "execution_count": null,
   "metadata": {},
   "outputs": [],
   "source": [
    "pesquisa.send_keys('cotação dolar')\n",
    "pesquisa.send_keys(Keys.ENTER)"
   ]
  }
 ],
 "metadata": {
  "kernelspec": {
   "display_name": "Python 3",
   "language": "python",
   "name": "python3"
  },
  "language_info": {
   "codemirror_mode": {
    "name": "ipython",
    "version": 3
   },
   "file_extension": ".py",
   "mimetype": "text/x-python",
   "name": "python",
   "nbconvert_exporter": "python",
   "pygments_lexer": "ipython3",
   "version": "3.10.8"
  },
  "orig_nbformat": 4,
  "vscode": {
   "interpreter": {
    "hash": "1e860de875a9de9b64948a8bffce4f684ffb207904cee8e263875f9eddf48f42"
   }
  }
 },
 "nbformat": 4,
 "nbformat_minor": 2
}
